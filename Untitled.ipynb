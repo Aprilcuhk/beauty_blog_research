{
 "cells": [
  {
   "cell_type": "code",
   "execution_count": 1,
   "id": "3264b6a5",
   "metadata": {},
   "outputs": [
    {
     "name": "stdout",
     "output_type": "stream",
     "text": [
      "Collecting pyLDAvis\n",
      "  Cloning https://github.com/bmabey/pyLDAvis.git (to revision master) to /private/var/folders/tx/327gmf1d3vd2fzt8k0972vz00000gn/T/pip-install-hpzktos3/pyldavis_f9f28e5c616346a8ada9f7222929fc9e\n",
      "  Running command git clone -q https://github.com/bmabey/pyLDAvis.git /private/var/folders/tx/327gmf1d3vd2fzt8k0972vz00000gn/T/pip-install-hpzktos3/pyldavis_f9f28e5c616346a8ada9f7222929fc9e\n",
      "  git-lfs filter-process: git-lfs: command not found\n",
      "  fatal: the remote end hung up unexpectedly\n",
      "  warning: Clone succeeded, but checkout failed.\n",
      "  You can inspect what was checked out with 'git status'\n",
      "  and retry with 'git restore --source=HEAD :/'\n",
      "\n",
      "\u001b[33mWARNING: Discarding git+https://github.com/bmabey/pyLDAvis.git@master#egg=pyLDAvis. Command errored out with exit status 128: git clone -q https://github.com/bmabey/pyLDAvis.git /private/var/folders/tx/327gmf1d3vd2fzt8k0972vz00000gn/T/pip-install-hpzktos3/pyldavis_f9f28e5c616346a8ada9f7222929fc9e Check the logs for full command output.\u001b[0m\n",
      "\u001b[31mERROR: Could not find a version that satisfies the requirement pyldavis (unavailable)\u001b[0m\n",
      "\u001b[31mERROR: No matching distribution found for pyldavis (unavailable)\u001b[0m\n",
      "Note: you may need to restart the kernel to use updated packages.\n"
     ]
    }
   ],
   "source": [
    "pip install git+https://github.com/bmabey/pyLDAvis.git@master#egg=pyLDAvis"
   ]
  },
  {
   "cell_type": "code",
   "execution_count": null,
   "id": "41eee0aa",
   "metadata": {},
   "outputs": [],
   "source": []
  }
 ],
 "metadata": {
  "kernelspec": {
   "display_name": "Python 3",
   "language": "python",
   "name": "python3"
  },
  "language_info": {
   "codemirror_mode": {
    "name": "ipython",
    "version": 3
   },
   "file_extension": ".py",
   "mimetype": "text/x-python",
   "name": "python",
   "nbconvert_exporter": "python",
   "pygments_lexer": "ipython3",
   "version": "3.8.8"
  }
 },
 "nbformat": 4,
 "nbformat_minor": 5
}
